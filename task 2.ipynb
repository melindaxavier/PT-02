{
  "nbformat": 4,
  "nbformat_minor": 0,
  "metadata": {
    "colab": {
      "private_outputs": true,
      "provenance": []
    },
    "kernelspec": {
      "name": "python3",
      "display_name": "Python 3"
    },
    "language_info": {
      "name": "python"
    }
  },
  "cells": [
    {
      "cell_type": "code",
      "execution_count": null,
      "metadata": {
        "id": "o1hVDeRlT6JO"
      },
      "outputs": [],
      "source": [
        "import pandas as pd\n",
        "\n",
        "# Load the Titanic dataset\n",
        "df = pd.read_csv('titanic.csv')\n",
        "\n",
        "# Display the first few rows of the dataset\n",
        "df.head()\n",
        "\n",
        "# Check for missing values\n",
        "print(df.isnull().sum())\n",
        "\n",
        "# Handle missing values if the column exists\n",
        "if 'Cabin' in df.columns:\n",
        "    # Drop the 'Cabin' column\n",
        "    df.drop(columns='Cabin', inplace=True)\n",
        "\n",
        "# Impute missing values in 'Age' with the median\n",
        "df['Age'].fillna(df['Age'].median(), inplace=True)\n",
        "\n",
        "# Impute missing values in 'Embarked' with the mode\n",
        "if 'Embarked' in df.columns:\n",
        "    df['Embarked'].fillna(df['Embarked'].mode()[0], inplace=True)\n",
        "\n",
        "# Check again for missing values\n",
        "print(df.isnull().sum())\n",
        "\n",
        "# Convert 'Sex' and 'Embarked' to categorical data types if they exist\n",
        "if 'Sex' in df.columns:\n",
        "    df['Sex'] = df['Sex'].astype('category')\n",
        "if 'Embarked' in df.columns:\n",
        "    df['Embarked'] = df['Embarked'].astype('category')\n",
        "\n",
        "# Perform EDA\n",
        "import matplotlib.pyplot as plt\n",
        "import seaborn as sns\n",
        "\n",
        "# Descriptive statistics for numerical columns\n",
        "print(df.describe())\n",
        "\n",
        "# Histograms for numerical variables\n",
        "df.hist(bins=20, figsize=(14, 10))\n",
        "plt.show()\n",
        "\n",
        "# Survival rate by gender\n",
        "if 'Sex' in df.columns and 'Survived' in df.columns:\n",
        "    sns.countplot(data=df, x='Sex', hue='Survived')\n",
        "    plt.title('Survival Rate by Gender')\n",
        "    plt.show()\n",
        "\n",
        "# Survival rate by class\n",
        "if 'Pclass' in df.columns and 'Survived' in df.columns:\n",
        "    sns.countplot(data=df, x='Pclass', hue='Survived')\n",
        "    plt.title('Survival Rate by Class')\n",
        "    plt.show()\n",
        "\n",
        "# Age distribution by survival status\n",
        "if 'Age' in df.columns and 'Survived' in df.columns:\n",
        "    sns.histplot(data=df, x='Age', hue='Survived', bins=20, kde=True)\n",
        "    plt.title('Age Distribution by Survival Status')\n",
        "    plt.show()\n",
        "\n",
        "# Fare distribution by survival status\n",
        "if 'Fare' in df.columns and 'Survived' in df.columns:\n",
        "    sns.histplot(data=df, x='Fare', hue='Survived', bins=20, kde=True)\n",
        "    plt.title('Fare Distribution by Survival Status')\n",
        "    plt.show()\n"
      ]
    }
  ]
}